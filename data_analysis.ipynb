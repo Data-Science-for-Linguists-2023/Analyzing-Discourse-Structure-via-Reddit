{
 "cells": [
  {
   "cell_type": "markdown",
   "id": "b45202d5",
   "metadata": {},
   "source": [
    "# Data Analysis\n",
    "\n",
    "For analyzing data, we will look at several aspects. "
   ]
  },
  {
   "cell_type": "code",
   "execution_count": null,
   "id": "8a058fec",
   "metadata": {},
   "outputs": [],
   "source": [
    "!pip install convokit\n",
    "# spacy setup\n",
    "!python -m spacy download en_core_web_sm\n",
    "# nltk setup\n",
    "import nltk\n",
    "nltk.download('punkt')"
   ]
  },
  {
   "cell_type": "code",
   "execution_count": 4,
   "id": "ed1a5f15",
   "metadata": {},
   "outputs": [],
   "source": [
    "import pandas as pd\n",
    "import praw as praw\n",
    "from praw.models import MoreComments\n",
    "import requests as requests\n",
    "import pandas as pd"
   ]
  },
  {
   "cell_type": "markdown",
   "id": "4df71721",
   "metadata": {},
   "source": [
    "Load in the pickled dataframes:"
   ]
  },
  {
   "cell_type": "code",
   "execution_count": 3,
   "id": "8308938a",
   "metadata": {},
   "outputs": [],
   "source": [
    "#askReddit\n",
    "askReddit_df = pd.read_pickle(\"./data/askReddit_df.pkl\")\n",
    "askReddit_hot_df = pd.read_pickle(\"./data/askReddit_hot_df.pkl\")\n",
    "\n",
    "#politics\n",
    "politics_df = pd.read_pickle(\"./data/politics_df.pkl\")\n",
    "politics_hot_df = pd.read_pickle(\"./data/politics_hot_df.pkl\")\n",
    "#soccer\n",
    "\n",
    "soccer_df = pd.read_pickle(\"./data/soccer_df.pkl\")\n",
    "soccer_hot_df = pd.read_pickle(\"./data/soccer_hot_df.pkl\")\n",
    "\n",
    "#uplifting news\n",
    "\n",
    "uplifting_df = pd.read_pickle(\"./data/uplifting_df.pkl\")\n",
    "uplifting_hot_df = pd.read_pickle(\"./data/uplifting_hot_df.pkl\")\n",
    "\n",
    "#music\n",
    "\n",
    "music_df = pd.read_pickle(\"./data/music_df.pkl\")\n",
    "music_hot_df = pd.read_pickle(\"./data/music_hot_df.pkl\")"
   ]
  },
  {
   "cell_type": "code",
   "execution_count": null,
   "id": "a8fc7e49",
   "metadata": {},
   "outputs": [],
   "source": []
  }
 ],
 "metadata": {
  "kernelspec": {
   "display_name": "Python 3 (ipykernel)",
   "language": "python",
   "name": "python3"
  },
  "language_info": {
   "codemirror_mode": {
    "name": "ipython",
    "version": 3
   },
   "file_extension": ".py",
   "mimetype": "text/x-python",
   "name": "python",
   "nbconvert_exporter": "python",
   "pygments_lexer": "ipython3",
   "version": "3.9.13"
  }
 },
 "nbformat": 4,
 "nbformat_minor": 5
}

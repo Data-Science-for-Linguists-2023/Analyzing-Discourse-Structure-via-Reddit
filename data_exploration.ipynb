{
 "cells": [
  {
   "cell_type": "markdown",
   "id": "c179c06d",
   "metadata": {},
   "source": [
    "# Data Exploration - Continued\n",
    "\n",
    "In this notebook, we will explore our data beyond what we saw in our data collcetion preview.\n",
    "\n",
    "## Loading our data\n",
    "\n",
    "In our data collection, we pickled each dataframe. We'll load these back in:"
   ]
  },
  {
   "cell_type": "code",
   "execution_count": 12,
   "id": "c0b2a9ef",
   "metadata": {},
   "outputs": [],
   "source": [
    "import pandas as pd\n",
    "import praw as praw\n",
    "from praw.models import MoreComments\n",
    "import requests as requests\n",
    "import pandas as pd"
   ]
  },
  {
   "cell_type": "code",
   "execution_count": 4,
   "id": "26bfc9b6",
   "metadata": {},
   "outputs": [],
   "source": [
    "#askReddit\n",
    "askReddit_df = pd.read_pickle(\"./data/askReddit_df.pkl\")\n",
    "askReddit_hot_df = pd.read_pickle(\"./data/askReddit_hot_df.pkl\")\n",
    "\n",
    "#politics\n",
    "politics_df = pd.read_pickle(\"./data/politics_df.pkl\")\n",
    "politics_hot_df = pd.read_pickle(\"./data/politics_hot_df.pkl\")\n",
    "#soccer\n",
    "\n",
    "soccer_df = pd.read_pickle(\"./data/soccer_df.pkl\")\n",
    "soccer_hot_df = pd.read_pickle(\"./data/soccer_hot_df.pkl\")\n",
    "\n",
    "#uplifting news\n",
    "\n",
    "uplifting_df = pd.read_pickle(\"./data/uplifting_df.pkl\")\n",
    "uplifting_hot_df = pd.read_pickle(\"./data/uplifting_hot_df.pkl\")\n",
    "\n",
    "#music\n",
    "\n",
    "music_df = pd.read_pickle(\"./data/music_df.pkl\")\n",
    "music_hot_df = pd.read_pickle(\"./data/music_hot_df.pkl\")"
   ]
  },
  {
   "cell_type": "markdown",
   "id": "d480e741",
   "metadata": {},
   "source": [
    "Let's verify that the data was loaded in correctly:"
   ]
  },
  {
   "cell_type": "code",
   "execution_count": 5,
   "id": "92be74bf",
   "metadata": {},
   "outputs": [
    {
     "data": {
      "text/html": [
       "<div>\n",
       "<style scoped>\n",
       "    .dataframe tbody tr th:only-of-type {\n",
       "        vertical-align: middle;\n",
       "    }\n",
       "\n",
       "    .dataframe tbody tr th {\n",
       "        vertical-align: top;\n",
       "    }\n",
       "\n",
       "    .dataframe thead th {\n",
       "        text-align: right;\n",
       "    }\n",
       "</style>\n",
       "<table border=\"1\" class=\"dataframe\">\n",
       "  <thead>\n",
       "    <tr style=\"text-align: right;\">\n",
       "      <th></th>\n",
       "      <th>author</th>\n",
       "      <th>title</th>\n",
       "      <th>text</th>\n",
       "      <th>numComments</th>\n",
       "      <th>comments</th>\n",
       "    </tr>\n",
       "    <tr>\n",
       "      <th>id</th>\n",
       "      <th></th>\n",
       "      <th></th>\n",
       "      <th></th>\n",
       "      <th></th>\n",
       "      <th></th>\n",
       "    </tr>\n",
       "  </thead>\n",
       "  <tbody>\n",
       "    <tr>\n",
       "      <th>122xgeb</th>\n",
       "      <td>kamal31121984</td>\n",
       "      <td>Anyone who works 40 hours a week for minimum w...</td>\n",
       "      <td></td>\n",
       "      <td>25</td>\n",
       "      <td>(jds8enf, jds84e4, jds7zjy, jds936a, jds813w, ...</td>\n",
       "    </tr>\n",
       "    <tr>\n",
       "      <th>122yg9v</th>\n",
       "      <td>Routine_Camp7308</td>\n",
       "      <td>What do you consider a successful day for your...</td>\n",
       "      <td></td>\n",
       "      <td>4</td>\n",
       "      <td>(jdscos2, jdsdd8t, jdsd0bz, jdsel9r)</td>\n",
       "    </tr>\n",
       "    <tr>\n",
       "      <th>122xxz4</th>\n",
       "      <td>BrudderO</td>\n",
       "      <td>What’s your favourite way to be seduced?</td>\n",
       "      <td></td>\n",
       "      <td>9</td>\n",
       "      <td>(jdsbg98, jdsa86a, jdsai9g, jdscykh, jdsaadi, ...</td>\n",
       "    </tr>\n",
       "    <tr>\n",
       "      <th>122xti7</th>\n",
       "      <td>vicelordjohn</td>\n",
       "      <td>If you were sentenced to death and could choos...</td>\n",
       "      <td></td>\n",
       "      <td>44</td>\n",
       "      <td>(jds9qka, jds9qk3, jds9p0d, jds9pgt, jds9lma, ...</td>\n",
       "    </tr>\n",
       "    <tr>\n",
       "      <th>122y4tz</th>\n",
       "      <td>MrFantastic74</td>\n",
       "      <td>How can North America get rid of tipping cultu...</td>\n",
       "      <td></td>\n",
       "      <td>30</td>\n",
       "      <td>(jdsb0k6, jdscykm, jdsb79k, jdsdq3w, jdsb099, ...</td>\n",
       "    </tr>\n",
       "    <tr>\n",
       "      <th>122xerf</th>\n",
       "      <td>Impostata</td>\n",
       "      <td>A-Arons of Reddit, how have you done messed up?</td>\n",
       "      <td></td>\n",
       "      <td>3</td>\n",
       "      <td>(jds7snq, jds7xb1, jds7xg0)</td>\n",
       "    </tr>\n",
       "    <tr>\n",
       "      <th>122x0ev</th>\n",
       "      <td>FairtalkOfficial</td>\n",
       "      <td>What year do you believe AI will completely re...</td>\n",
       "      <td></td>\n",
       "      <td>26</td>\n",
       "      <td>(jds67us, jds6svt, jds9akd, jds5s28, jds77hg, ...</td>\n",
       "    </tr>\n",
       "    <tr>\n",
       "      <th>122xk5t</th>\n",
       "      <td>Agitated-Pilot-1897</td>\n",
       "      <td>What’s the best place in your house for hiding...</td>\n",
       "      <td></td>\n",
       "      <td>29</td>\n",
       "      <td>(jds8lc2, jds8gx6, jds8eim, jds8w3o, jdsaqne, ...</td>\n",
       "    </tr>\n",
       "    <tr>\n",
       "      <th>122yaam</th>\n",
       "      <td>puce_3000</td>\n",
       "      <td>What’s your favorite “grandmas remedy”?</td>\n",
       "      <td></td>\n",
       "      <td>6</td>\n",
       "      <td>(jdsbxdf, jdsbyqg, jdsc2vv, jdscf2h, jdscr51, ...</td>\n",
       "    </tr>\n",
       "    <tr>\n",
       "      <th>122y2yg</th>\n",
       "      <td>QuietlySmirking</td>\n",
       "      <td>What movies were WAY ahead of their time?</td>\n",
       "      <td></td>\n",
       "      <td>8</td>\n",
       "      <td>(jdsau52, jdsaqmm, jdsasxp, jdsbipf, jdsc1fl, ...</td>\n",
       "    </tr>\n",
       "  </tbody>\n",
       "</table>\n",
       "</div>"
      ],
      "text/plain": [
       "                      author  \\\n",
       "id                             \n",
       "122xgeb        kamal31121984   \n",
       "122yg9v     Routine_Camp7308   \n",
       "122xxz4             BrudderO   \n",
       "122xti7         vicelordjohn   \n",
       "122y4tz        MrFantastic74   \n",
       "122xerf            Impostata   \n",
       "122x0ev     FairtalkOfficial   \n",
       "122xk5t  Agitated-Pilot-1897   \n",
       "122yaam            puce_3000   \n",
       "122y2yg      QuietlySmirking   \n",
       "\n",
       "                                                     title text  numComments  \\\n",
       "id                                                                             \n",
       "122xgeb  Anyone who works 40 hours a week for minimum w...                25   \n",
       "122yg9v  What do you consider a successful day for your...                 4   \n",
       "122xxz4           What’s your favourite way to be seduced?                 9   \n",
       "122xti7  If you were sentenced to death and could choos...                44   \n",
       "122y4tz  How can North America get rid of tipping cultu...                30   \n",
       "122xerf    A-Arons of Reddit, how have you done messed up?                 3   \n",
       "122x0ev  What year do you believe AI will completely re...                26   \n",
       "122xk5t  What’s the best place in your house for hiding...                29   \n",
       "122yaam            What’s your favorite “grandmas remedy”?                 6   \n",
       "122y2yg          What movies were WAY ahead of their time?                 8   \n",
       "\n",
       "                                                  comments  \n",
       "id                                                          \n",
       "122xgeb  (jds8enf, jds84e4, jds7zjy, jds936a, jds813w, ...  \n",
       "122yg9v               (jdscos2, jdsdd8t, jdsd0bz, jdsel9r)  \n",
       "122xxz4  (jdsbg98, jdsa86a, jdsai9g, jdscykh, jdsaadi, ...  \n",
       "122xti7  (jds9qka, jds9qk3, jds9p0d, jds9pgt, jds9lma, ...  \n",
       "122y4tz  (jdsb0k6, jdscykm, jdsb79k, jdsdq3w, jdsb099, ...  \n",
       "122xerf                        (jds7snq, jds7xb1, jds7xg0)  \n",
       "122x0ev  (jds67us, jds6svt, jds9akd, jds5s28, jds77hg, ...  \n",
       "122xk5t  (jds8lc2, jds8gx6, jds8eim, jds8w3o, jdsaqne, ...  \n",
       "122yaam  (jdsbxdf, jdsbyqg, jdsc2vv, jdscf2h, jdscr51, ...  \n",
       "122y2yg  (jdsau52, jdsaqmm, jdsasxp, jdsbipf, jdsc1fl, ...  "
      ]
     },
     "execution_count": 5,
     "metadata": {},
     "output_type": "execute_result"
    }
   ],
   "source": [
    "askReddit_df.head(10)"
   ]
  },
  {
   "cell_type": "markdown",
   "id": "10e26eec",
   "metadata": {},
   "source": [
    "Yep! \n",
    "\n",
    "#### Data Format\n",
    "\n",
    "By now, we have our data format sorted. Each dataframe has 6 columns:\n",
    "\n",
    "1. ID\n",
    "2. Author\n",
    "3. Title\n",
    "4. Text\n",
    "5. numComments\n",
    "6. comments -  Each comment has its own 'comment tree'\n",
    "\n",
    "Let's look at our comments again:"
   ]
  },
  {
   "cell_type": "code",
   "execution_count": 75,
   "id": "c5481c1a",
   "metadata": {},
   "outputs": [
    {
     "data": {
      "text/plain": [
       "{'_replies': <praw.models.comment_forest.CommentForest at 0x1ad7b880640>,\n",
       " '_submission': Submission(id='122x0ev'),\n",
       " '_reddit': <praw.reddit.Reddit at 0x1ad7ba020d0>,\n",
       " 'subreddit_id': 't5_2qh1i',\n",
       " 'approved_at_utc': None,\n",
       " 'author_is_blocked': False,\n",
       " 'comment_type': None,\n",
       " 'awarders': [],\n",
       " 'mod_reason_by': None,\n",
       " 'banned_by': None,\n",
       " 'author_flair_type': 'text',\n",
       " 'total_awards_received': 0,\n",
       " 'subreddit': Subreddit(display_name='AskReddit'),\n",
       " 'author_flair_template_id': None,\n",
       " 'likes': None,\n",
       " 'user_reports': [],\n",
       " 'saved': False,\n",
       " 'id': 'jds67us',\n",
       " 'banned_at_utc': None,\n",
       " 'mod_reason_title': None,\n",
       " 'gilded': 0,\n",
       " 'archived': False,\n",
       " 'collapsed_reason_code': None,\n",
       " 'no_follow': False,\n",
       " 'author': Redditor(name='maler27'),\n",
       " 'can_mod_post': False,\n",
       " 'created_utc': 1679859851.0,\n",
       " 'send_replies': True,\n",
       " 'parent_id': 't3_122x0ev',\n",
       " 'score': 1,\n",
       " 'author_fullname': 't2_37mpif7x',\n",
       " 'approved_by': None,\n",
       " 'mod_note': None,\n",
       " 'all_awardings': [],\n",
       " 'collapsed': False,\n",
       " 'body': 'Saw a Star Wars movie years ago that felt like I was watching a cartoon the entire time',\n",
       " 'edited': False,\n",
       " 'top_awarded_type': None,\n",
       " 'author_flair_css_class': None,\n",
       " 'name': 't1_jds67us',\n",
       " 'is_submitter': False,\n",
       " 'downs': 0,\n",
       " 'author_flair_richtext': [],\n",
       " 'author_patreon_flair': False,\n",
       " 'body_html': '<div class=\"md\"><p>Saw a Star Wars movie years ago that felt like I was watching a cartoon the entire time</p>\\n</div>',\n",
       " 'removal_reason': None,\n",
       " 'collapsed_reason': None,\n",
       " 'distinguished': None,\n",
       " 'associated_award': None,\n",
       " 'stickied': False,\n",
       " 'author_premium': False,\n",
       " 'can_gild': True,\n",
       " 'gildings': {},\n",
       " 'unrepliable_reason': None,\n",
       " 'author_flair_text_color': None,\n",
       " 'score_hidden': True,\n",
       " 'permalink': '/r/AskReddit/comments/122x0ev/what_year_do_you_believe_ai_will_completely/jds67us/',\n",
       " 'subreddit_type': 'public',\n",
       " 'locked': False,\n",
       " 'report_reasons': None,\n",
       " 'created': 1679859851.0,\n",
       " 'author_flair_text': None,\n",
       " 'treatment_tags': [],\n",
       " 'link_id': 't3_122x0ev',\n",
       " 'subreddit_name_prefixed': 'r/AskReddit',\n",
       " 'controversiality': 0,\n",
       " 'depth': 0,\n",
       " 'author_flair_background_color': None,\n",
       " 'collapsed_because_crowd_control': None,\n",
       " 'mod_reports': [],\n",
       " 'num_reports': None,\n",
       " 'ups': 1,\n",
       " '_fetched': True}"
      ]
     },
     "execution_count": 75,
     "metadata": {},
     "output_type": "execute_result"
    }
   ],
   "source": [
    "for comment in askReddit_hot_df.comments:\n",
    "    comment = comment.replace_more(limit=0)\n",
    "vars(askReddit_df.loc['122x0ev'].comments[0])"
   ]
  },
  {
   "cell_type": "markdown",
   "id": "409955d2",
   "metadata": {},
   "source": [
    "Here we can see all attributes that a comment object has. If we use the list() function as implemented, it displays comments breadth-first. This means that the first comment returned in our list is likely unrelated to the second, and so on. To minimize this issue, we can modify the function to print depth-first (for readability) and include how many times each comment was replied to:"
   ]
  },
  {
   "cell_type": "code",
   "execution_count": 93,
   "id": "6b1d67ab",
   "metadata": {},
   "outputs": [],
   "source": [
    "def list_dfs(comm):  \n",
    "        \"\"\"Return a DFS list of all Comments.  \n",
    "        This list may contain :class:`.MoreComments` instances if  \n",
    "        :meth:`.replace_more` was not called first.  \n",
    "        \"\"\"  \n",
    "        comment_counts = {}\n",
    "        comments = []\n",
    "        queue = list(comm)\n",
    "        while queue:\n",
    "            comment = queue.pop(0)\n",
    "            comments.append(comment)\n",
    "            comment_counts[comment.id] = 1\n",
    "            if(comment.parent_id[3:] in comment_counts):\n",
    "                comment_counts[comment.parent_id[3:]] += 1\n",
    "            else:\n",
    "                comment_counts[comment.parent_id[3:]] = 1\n",
    "            if not isinstance(comment, MoreComments):\n",
    "                queue[0:0] = comment.replies\n",
    "        return comments"
   ]
  },
  {
   "cell_type": "code",
   "execution_count": 94,
   "id": "8baaab55",
   "metadata": {},
   "outputs": [
    {
     "name": "stdout",
     "output_type": "stream",
     "text": [
      "jds67us t3_122x0ev Saw a Star Wars movie years ago that felt like I was watching a cartoon the entire time\n",
      " _________\n",
      "jds7os1 t1_jds67us Looks like the AI takeover has already begun if they're making Jar Jar Binks look realistic.\n",
      " _________\n",
      "jds6svt t3_122x0ev CGI hasn’t put the movie camera manufacturers out of a business. Nor has it made actors obsolete. \n",
      "\n",
      "AI is going to have a hard time replacing entire industries just like every other technological advancement has. It could change cinema substantially, but it will never kill the camera.\n",
      " _________\n",
      "jds9akd t3_122x0ev I don't think it will completely replace it, but it will lower some costs, eliminate some jobs and reduce the time (and probably the quality) of movies in 10-20 years.\n",
      " _________\n",
      "jds5s28 t3_122x0ev 2050\n",
      " _________\n",
      "jds77hg t3_122x0ev Everyone here, do yourself a favor and watch the “Netflix Bots write movies” series on YouTube by Netflix is a Joke\n",
      " _________\n",
      "jds814j t3_122x0ev There hasn’t been any type of intelligence, artificial or otherwise, in that industry for many decades. I doubt ai is necessary.\n",
      " _________\n",
      "jdsac92 t3_122x0ev I don't get it. Why would a steak sauce replace the film industry?\n",
      " _________\n",
      "jdscsss t3_122x0ev filmmaking is a collaborative process that involves many different people with diverse skill sets and perspectives, and it is unlikely that AI can fully replace the human element of collaboration and teamwork in the industry.\r",
      "  \n",
      "\r",
      "  \n",
      "That being said, it is possible that AI and other technologies may continue to evolve and play a greater role in the filmmaking process in the future, but it is unlikely to completely replace the industry.\n",
      " _________\n",
      "jds5oy7 t3_122x0ev It won't.\n",
      " _________\n",
      "jds5q74 t3_122x0ev It won't.\n",
      " _________\n",
      "jds5w4j t3_122x0ev I don't think AI can replace creativity and emotions that humans put into filmmaking.\n",
      " _________\n",
      "jds7i9n t1_jds5w4j Creativity I think could be achieved because AI art is already pretty good and it’s in its infancy. Think about what it could do once it’s been fed every box office hit and critically acclaimed movie ever. At the end of the day, most good movie plots follow a formula and I think AI could figure that out.\n",
      " _________\n",
      "jds6acl t3_122x0ev This is so much fun.\n",
      "\n",
      "Next year? If you're a conservative, if you love The Daily Wire, you're in for all of it. AI will completely replace news for you. AI is cheaper than Tucker.\n",
      "\n",
      "CGI in film has been a thing, let's talk about it.\n",
      " _________\n",
      "jds6x3v t1_jds6acl That's not really the film industry...\n",
      " _________\n",
      "jds5ync t3_122x0ev Ai lack creativity\n",
      " _________\n",
      "jds5wj2 t3_122x0ev 2030? By then it should replace all human creative media. Movies, TV, Video games, online content creation, books, news articles. Everything like that.\n",
      " _________\n",
      "jds8h7j t3_122x0ev Right around iron man 3\n",
      " _________\n",
      "jds8h8e t3_122x0ev Sooner than probably any predictions I can make. A lot of the tools I use now for editing have some kind of AI system built into them already. We can already replace voice actors if needed. 10 years maybe? Probably when the majority of the work will be automated.\n",
      " _________\n",
      "jds8ric t3_122x0ev 2020–Yep.\n",
      " _________\n",
      "jdsa8qy t3_122x0ev It won't. We might just make it do generic grunt work.\n",
      " _________\n",
      "jdsba2y t3_122x0ev Ah yes, just like the invention of photography has completely replaced the painting industry.\n",
      " _________\n",
      "jdsbhv4 t3_122x0ev 202never\n",
      " _________\n",
      "jdsdwy4 t3_122x0ev Never\n",
      " _________\n",
      "jdsea79 t3_122x0ev I am curious if a decent movie could be made by surrounding any given scene with multiple small cameras and then let AI edit the footage\n",
      " _________\n",
      "jdseczc t3_122x0ev Probably a few more decades, possibly centuries. Depends how much money is invested in training and perfecting models\n",
      " _________\n"
     ]
    }
   ],
   "source": [
    "for comment in list_dfs(askReddit_df.loc['122x0ev'].comments):\n",
    "    # Using ____ to demarcate different comments\n",
    "    print(comment.id+ ' '+ comment.parent_id+ ' ' + comment.body + \"\\n _________\")"
   ]
  },
  {
   "cell_type": "markdown",
   "id": "65aa7b2b",
   "metadata": {},
   "source": [
    "We can see a hint of conversation in these replies, as opposed to the BFS, which was a bit jumbled. Let's visualize this by looking exclusively at the first 2 entries: "
   ]
  },
  {
   "cell_type": "code",
   "execution_count": 58,
   "id": "e792e432",
   "metadata": {},
   "outputs": [
    {
     "name": "stdout",
     "output_type": "stream",
     "text": [
      "jds67us t3_122x0ev Saw a Star Wars movie years ago that felt like I was watching a cartoon the entire time\n",
      " _________\n",
      "jds7os1 t1_jds67us Looks like the AI takeover has already begun if they're making Jar Jar Binks look realistic.\n",
      " _________\n"
     ]
    }
   ],
   "source": [
    "for comment in list_dfs(askReddit_df.loc['122x0ev'].comments)[:2]:\n",
    "    # Using ____ to demarcate different comments\n",
    "    print(comment.id+ ' '+ comment.parent_id+ ' ' + comment.body + \"\\n _________\")"
   ]
  },
  {
   "cell_type": "markdown",
   "id": "33439a43",
   "metadata": {},
   "source": [
    "The id listed first is the comment's id, while the second is an identifier for the parent. The comment jds7os1 is replying to jds67us. This is a short chain, so let's look at one of the hotter posts:"
   ]
  },
  {
   "cell_type": "code",
   "execution_count": 74,
   "id": "6f88d6c3",
   "metadata": {},
   "outputs": [
    {
     "name": "stdout",
     "output_type": "stream",
     "text": [
      "What are some of the biggest scams to have happened in history?\n",
      "\n",
      "\n",
      "jdraly2 122pfb9 \n",
      "Ticketmaster.\n",
      " _________\n",
      "jdrt7to jdraly2 My hate for Ticketmaster is beyond anything in the world.\n",
      " _________\n",
      "jds17yc jdrt7to And they've got significantly worse in the post COVID era.\n",
      " _________\n",
      "jds3k8k jdraly2 I can't even see a show for a reasonable price.  I call bullshit.  Ticketmaster has destroyed live music.\n",
      " _________\n",
      "jds40cb jds3k8k What is reasonable price?  Seems like people are willing to pay thousands for a Taylor swift concert. So… reasonable price would be in the thousands.\n",
      " _________\n",
      "jdscyla jds40cb I believe that tickets to see the National Symphony Orchestra at the Kennedy Center in Washington, D.C. run between $35 and $99.  That should be the reasonable price for every concert.\n",
      " _________\n",
      "jdsd849 jdscyla You implying the national symphony orchestra is on the same level as Taylor Swift?\n",
      " _________\n",
      "jdse0ex jdsd849 Yes\n",
      " _________\n",
      "jdrwpgh jdraly2 Everyone needs to realise this.\n",
      " _________\n",
      "jds0v02 jdrwpgh Our government is complicit. I swear listen y’all, we all know a bully when we see one. The crap that they allow Ticketmaster to get away with, and now they can’t even do anything about it.\n",
      " _________\n"
     ]
    }
   ],
   "source": [
    "print(askReddit_hot_df.iloc[1].title+\"\\n\\n\")\n",
    "for comment in list_dfs(askReddit_hot_df.iloc[1].comments)[:10]:\n",
    "    # Using ____ to demarcate different comments\n",
    "    print(comment.id+ ' '+ comment.parent_id[3:]+ ' ' + comment.body + \"\\n _________\")"
   ]
  },
  {
   "cell_type": "markdown",
   "id": "e6bdb268",
   "metadata": {},
   "source": [
    "Here, we can see a conversation developing! Now that we have this working, let's take a step back and display the shapes of our dataframes:"
   ]
  },
  {
   "cell_type": "code",
   "execution_count": 80,
   "id": "cc323bac",
   "metadata": {},
   "outputs": [
    {
     "name": "stdout",
     "output_type": "stream",
     "text": [
      "(100, 5)\n",
      "(100, 5)\n"
     ]
    }
   ],
   "source": [
    "print(askReddit_df.shape)\n",
    "print(askReddit_hot_df.shape)"
   ]
  },
  {
   "cell_type": "code",
   "execution_count": 81,
   "id": "7b9d0f46",
   "metadata": {},
   "outputs": [
    {
     "name": "stdout",
     "output_type": "stream",
     "text": [
      "(25, 5)\n",
      "(100, 5)\n"
     ]
    }
   ],
   "source": [
    "#politics\n",
    "print(politics_df.shape)\n",
    "print(politics_hot_df.shape)\n"
   ]
  },
  {
   "cell_type": "code",
   "execution_count": 82,
   "id": "cef0f5a7",
   "metadata": {},
   "outputs": [
    {
     "name": "stdout",
     "output_type": "stream",
     "text": [
      "(23, 5)\n",
      "(100, 5)\n"
     ]
    }
   ],
   "source": [
    "#soccer\n",
    "\n",
    "print(soccer_df.shape)\n",
    "print(soccer_hot_df.shape)\n",
    "\n"
   ]
  },
  {
   "cell_type": "code",
   "execution_count": 83,
   "id": "949dc32e",
   "metadata": {},
   "outputs": [
    {
     "name": "stdout",
     "output_type": "stream",
     "text": [
      "(16, 5)\n",
      "(100, 5)\n"
     ]
    }
   ],
   "source": [
    "#uplifting news\n",
    "\n",
    "print(uplifting_df.shape)\n",
    "print(uplifting_hot_df.shape)\n"
   ]
  },
  {
   "cell_type": "code",
   "execution_count": 84,
   "id": "c713c52f",
   "metadata": {},
   "outputs": [
    {
     "name": "stdout",
     "output_type": "stream",
     "text": [
      "(23, 5)\n",
      "(100, 5)\n"
     ]
    }
   ],
   "source": [
    "#music\n",
    "\n",
    "print(music_df.shape)\n",
    "print(music_hot_df.shape)"
   ]
  },
  {
   "cell_type": "markdown",
   "id": "1d931bcc",
   "metadata": {},
   "source": [
    "In less active subreddits, we see that there are fewer 'rising' posts"
   ]
  },
  {
   "cell_type": "code",
   "execution_count": null,
   "id": "ad3d51fa",
   "metadata": {},
   "outputs": [],
   "source": []
  }
 ],
 "metadata": {
  "kernelspec": {
   "display_name": "Python 3 (ipykernel)",
   "language": "python",
   "name": "python3"
  },
  "language_info": {
   "codemirror_mode": {
    "name": "ipython",
    "version": 3
   },
   "file_extension": ".py",
   "mimetype": "text/x-python",
   "name": "python",
   "nbconvert_exporter": "python",
   "pygments_lexer": "ipython3",
   "version": "3.9.13"
  }
 },
 "nbformat": 4,
 "nbformat_minor": 5
}
